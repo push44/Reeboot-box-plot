{
 "cells": [
  {
   "cell_type": "code",
   "execution_count": 1,
   "metadata": {},
   "outputs": [],
   "source": [
    "import numpy as np\n",
    "import pandas as pd\n",
    "import scipy\n",
    "import pickle\n",
    "import matplotlib.pyplot as plt\n",
    "import seaborn as sns\n",
    "import gc\n",
    "from tqdm.notebook import tqdm\n",
    "\n",
    "from sklearn import preprocessing\n",
    "from sklearn.feature_extraction.text import TfidfVectorizer"
   ]
  },
  {
   "cell_type": "code",
   "execution_count": null,
   "metadata": {},
   "outputs": [],
   "source": []
  },
  {
   "cell_type": "code",
   "execution_count": 2,
   "metadata": {},
   "outputs": [
    {
     "name": "stderr",
     "output_type": "stream",
     "text": [
      "C:\\Users\\pushk\\miniconda3\\envs\\tensorflow\\lib\\site-packages\\IPython\\core\\interactiveshell.py:3063: DtypeWarning: Columns (4,10) have mixed types.Specify dtype option on import or set low_memory=False.\n",
      "  interactivity=interactivity, compiler=compiler, result=result)\n"
     ]
    },
    {
     "data": {
      "text/plain": [
       "0"
      ]
     },
     "execution_count": 2,
     "metadata": {},
     "output_type": "execute_result"
    }
   ],
   "source": [
    "path='../../Data/Extracted/'\n",
    "\n",
    "train_text=pd.read_csv(path+'train_multi_column_text.csv')\n",
    "test_text=pd.read_csv(path+'test_multi_column_text.csv')\n",
    "\n",
    "train_num=pd.read_csv(path+'train.csv').select_dtypes(exclude='object')\n",
    "train_num.fillna(train_num.median(),inplace=True)\n",
    "\n",
    "test_num=pd.read_csv(path+'test.csv').select_dtypes(exclude='object')\n",
    "test_num.fillna(test_num.median(),inplace=True)\n",
    "\n",
    "labels=pd.read_csv(path+'labels.csv')\n",
    "labels=pd.get_dummies(labels,prefix_sep='__')\n",
    "\n",
    "# Read submission format file\n",
    "submission_format=pd.read_csv('../../Data/Original/SubmissionFormat.csv')\n",
    "# Save index for submission\n",
    "sub_index=(submission_format[submission_format.columns[0]].tolist())\n",
    "sub_columns=submission_format.columns[1:]\n",
    "\n",
    "del submission_format\n",
    "gc.collect()"
   ]
  },
  {
   "cell_type": "markdown",
   "metadata": {},
   "source": [
    "## 2. Tfidf vectorizer"
   ]
  },
  {
   "cell_type": "code",
   "execution_count": 3,
   "metadata": {},
   "outputs": [
    {
     "data": {
      "application/vnd.jupyter.widget-view+json": {
       "model_id": "579394cbea4146a3b03f86a81ca1a05e",
       "version_major": 2,
       "version_minor": 0
      },
      "text/plain": [
       "HBox(children=(FloatProgress(value=0.0, max=7.0), HTML(value='')))"
      ]
     },
     "metadata": {},
     "output_type": "display_data"
    },
    {
     "name": "stdout",
     "output_type": "stream",
     "text": [
      "\n"
     ]
    }
   ],
   "source": [
    "train_csr=[train_num]\n",
    "test_csr=[test_num]\n",
    "\n",
    "############\n",
    "### Here tfidf vectorize single column text vector if required ###\n",
    "### Get the code for that from the last cell ###\n",
    "############\n",
    "\n",
    "for feat in tqdm(train_text.columns):\n",
    "    vectorizer=TfidfVectorizer(ngram_range=(1,4),min_df=10)\n",
    "    train_csr.append(vectorizer.fit_transform(train_text[feat].values.ravel()))\n",
    "    test_csr.append(vectorizer.transform(test_text[feat].values.ravel()))"
   ]
  },
  {
   "cell_type": "code",
   "execution_count": null,
   "metadata": {},
   "outputs": [],
   "source": []
  },
  {
   "cell_type": "code",
   "execution_count": 4,
   "metadata": {},
   "outputs": [
    {
     "data": {
      "text/plain": [
       "((382627, 9856), (50064, 9856))"
      ]
     },
     "execution_count": 4,
     "metadata": {},
     "output_type": "execute_result"
    }
   ],
   "source": [
    "X_train=scipy.sparse.hstack(train_csr).tocsr()\n",
    "X_test=scipy.sparse.hstack(test_csr).tocsr()\n",
    "\n",
    "X_train.shape, X_test.shape"
   ]
  },
  {
   "cell_type": "code",
   "execution_count": null,
   "metadata": {},
   "outputs": [],
   "source": []
  },
  {
   "cell_type": "code",
   "execution_count": null,
   "metadata": {},
   "outputs": [],
   "source": []
  },
  {
   "cell_type": "code",
   "execution_count": 5,
   "metadata": {},
   "outputs": [],
   "source": [
    "from sklearn.tree import DecisionTreeClassifier\n",
    "from sklearn.ensemble import RandomForestClassifier\n",
    "from sklearn import metrics\n",
    "import time"
   ]
  },
  {
   "cell_type": "code",
   "execution_count": null,
   "metadata": {},
   "outputs": [],
   "source": []
  },
  {
   "cell_type": "code",
   "execution_count": null,
   "metadata": {},
   "outputs": [],
   "source": []
  },
  {
   "cell_type": "code",
   "execution_count": 6,
   "metadata": {},
   "outputs": [
    {
     "data": {
      "application/vnd.jupyter.widget-view+json": {
       "model_id": "8a3bd94093bd4f4a9b23a708f1c67ab0",
       "version_major": 2,
       "version_minor": 0
      },
      "text/plain": [
       "HBox(children=(FloatProgress(value=0.0, max=104.0), HTML(value='')))"
      ]
     },
     "metadata": {},
     "output_type": "display_data"
    },
    {
     "name": "stdout",
     "output_type": "stream",
     "text": [
      "\n"
     ]
    }
   ],
   "source": [
    "sub_dict={}\n",
    "for col in tqdm(sub_columns):\n",
    "    rfc=RandomForestClassifier(n_estimators=200,\n",
    "                               min_samples_leaf=10,\n",
    "                               n_jobs=-1)\n",
    "\n",
    "    rfc.fit(X_train,labels[col].values)\n",
    "\n",
    "    sub_dict[col]=list(map(lambda val: val[1],rfc.predict_proba(X_test)))"
   ]
  },
  {
   "cell_type": "code",
   "execution_count": 7,
   "metadata": {},
   "outputs": [],
   "source": [
    "sub_df=pd.DataFrame(sub_dict,columns=sub_columns,index=sub_index)"
   ]
  },
  {
   "cell_type": "code",
   "execution_count": 8,
   "metadata": {},
   "outputs": [],
   "source": [
    "sub_df.to_csv('../../Data/Submissions/rfc_104_models_9.csv',index=True)"
   ]
  },
  {
   "cell_type": "code",
   "execution_count": null,
   "metadata": {},
   "outputs": [],
   "source": []
  },
  {
   "cell_type": "code",
   "execution_count": null,
   "metadata": {},
   "outputs": [],
   "source": [
    "\"\"\"from category_encoders.count import CountEncoder\n",
    "\n",
    "cnt_encoder=CountEncoder()\n",
    "cnt_encoder.fit(pd.concat([train_text,test_text]))\n",
    "X_train=cnt_encoder.transform(train_text)\n",
    "X_test=cnt_encoder.transform(test_text)\n",
    "\n",
    "\n",
    "def order_by_freq(df,feat):\n",
    "    '''Sort feature column according to column values in reverse order'''\n",
    "    # Create a mapping dictionary where more the frequency lesser will be the rank, i.e., most frequent will be ranked 0\n",
    "    sorted_list=sorted(df[feat].unique(), reverse=True)\n",
    "    mapping_dict=dict(zip(list(map(lambda val:str(val),sorted_list)),range(len(sorted_list))))\n",
    "\n",
    "    # Cast series to a string\n",
    "    feat_series=df[feat].astype('str')\n",
    "\n",
    "    # Replace column values according to a mapping dictionary\n",
    "    return feat_series.replace(mapping_dict)\n",
    "\n",
    "for df in [X_train,X_test]:\n",
    "    for feat in df.columns:\n",
    "        df[feat]=order_by_freq(df,feat)\"\"\""
   ]
  }
 ],
 "metadata": {
  "kernelspec": {
   "display_name": "Python 3.7 (tensorflow)",
   "language": "python",
   "name": "tensorflow"
  },
  "language_info": {
   "codemirror_mode": {
    "name": "ipython",
    "version": 3
   },
   "file_extension": ".py",
   "mimetype": "text/x-python",
   "name": "python",
   "nbconvert_exporter": "python",
   "pygments_lexer": "ipython3",
   "version": "3.7.7"
  }
 },
 "nbformat": 4,
 "nbformat_minor": 4
}
