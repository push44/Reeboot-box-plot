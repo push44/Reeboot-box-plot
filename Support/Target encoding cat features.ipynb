{
 "cells": [
  {
   "cell_type": "code",
   "execution_count": 1,
   "metadata": {},
   "outputs": [],
   "source": [
    "import pandas as pd\n",
    "import numpy as np\n",
    "import scipy.stats\n",
    "import pickle\n",
    "from tqdm.notebook import tqdm\n",
    "import gc"
   ]
  },
  {
   "cell_type": "markdown",
   "metadata": {},
   "source": [
    "## 1. Read multi text column files from extracted folder"
   ]
  },
  {
   "cell_type": "code",
   "execution_count": 2,
   "metadata": {},
   "outputs": [],
   "source": [
    "path='../../Data/Extracted/'\n",
    "\n",
    "train=pd.read_csv(path+'train_multi_column_text.csv')\n",
    "test=pd.read_csv(path+'test_multi_column_text.csv')\n",
    "labels=pd.read_csv(path+'labels.csv')\n",
    "labels=pd.get_dummies(labels, prefix_sep='__')"
   ]
  },
  {
   "cell_type": "code",
   "execution_count": 5,
   "metadata": {},
   "outputs": [],
   "source": [
    "from category_encoders.count import CountEncoder"
   ]
  },
  {
   "cell_type": "code",
   "execution_count": 9,
   "metadata": {},
   "outputs": [],
   "source": [
    "cnt_encoder=CountEncoder()\n",
    "train_cnt=cnt_encoder.fit_transform(train).div(train.shape[0])\n",
    "test_cnt=cnt_encoder.transform(test).div(test.shape[0])"
   ]
  },
  {
   "cell_type": "code",
   "execution_count": 10,
   "metadata": {},
   "outputs": [
    {
     "data": {
      "text/html": [
       "<div>\n",
       "<style scoped>\n",
       "    .dataframe tbody tr th:only-of-type {\n",
       "        vertical-align: middle;\n",
       "    }\n",
       "\n",
       "    .dataframe tbody tr th {\n",
       "        vertical-align: top;\n",
       "    }\n",
       "\n",
       "    .dataframe thead th {\n",
       "        text-align: right;\n",
       "    }\n",
       "</style>\n",
       "<table border=\"1\" class=\"dataframe\">\n",
       "  <thead>\n",
       "    <tr style=\"text-align: right;\">\n",
       "      <th></th>\n",
       "      <th>Object_Description</th>\n",
       "      <th>Job_Title_Description</th>\n",
       "      <th>Sub_Object_Description</th>\n",
       "      <th>Location_Description</th>\n",
       "      <th>Function_Description</th>\n",
       "      <th>Program_Description</th>\n",
       "      <th>Fund_Description</th>\n",
       "    </tr>\n",
       "  </thead>\n",
       "  <tbody>\n",
       "    <tr>\n",
       "      <th>0</th>\n",
       "      <td>0.064959</td>\n",
       "      <td>0.083807</td>\n",
       "      <td>0.763511</td>\n",
       "      <td>0.588181</td>\n",
       "      <td>0.143586</td>\n",
       "      <td>0.002399</td>\n",
       "      <td>0.145502</td>\n",
       "    </tr>\n",
       "    <tr>\n",
       "      <th>1</th>\n",
       "      <td>0.000402</td>\n",
       "      <td>0.039759</td>\n",
       "      <td>0.763511</td>\n",
       "      <td>0.588181</td>\n",
       "      <td>0.000363</td>\n",
       "      <td>0.000494</td>\n",
       "      <td>0.484028</td>\n",
       "    </tr>\n",
       "    <tr>\n",
       "      <th>2</th>\n",
       "      <td>0.019800</td>\n",
       "      <td>0.000677</td>\n",
       "      <td>0.763511</td>\n",
       "      <td>0.588181</td>\n",
       "      <td>0.143586</td>\n",
       "      <td>0.031506</td>\n",
       "      <td>0.047613</td>\n",
       "    </tr>\n",
       "    <tr>\n",
       "      <th>3</th>\n",
       "      <td>0.112791</td>\n",
       "      <td>0.043515</td>\n",
       "      <td>0.763511</td>\n",
       "      <td>0.588181</td>\n",
       "      <td>0.031096</td>\n",
       "      <td>0.017793</td>\n",
       "      <td>0.484028</td>\n",
       "    </tr>\n",
       "    <tr>\n",
       "      <th>4</th>\n",
       "      <td>0.003651</td>\n",
       "      <td>0.022573</td>\n",
       "      <td>0.763511</td>\n",
       "      <td>0.588181</td>\n",
       "      <td>0.188528</td>\n",
       "      <td>0.026689</td>\n",
       "      <td>0.484028</td>\n",
       "    </tr>\n",
       "    <tr>\n",
       "      <th>...</th>\n",
       "      <td>...</td>\n",
       "      <td>...</td>\n",
       "      <td>...</td>\n",
       "      <td>...</td>\n",
       "      <td>...</td>\n",
       "      <td>...</td>\n",
       "      <td>...</td>\n",
       "    </tr>\n",
       "    <tr>\n",
       "      <th>382622</th>\n",
       "      <td>0.041769</td>\n",
       "      <td>0.083807</td>\n",
       "      <td>0.763511</td>\n",
       "      <td>0.004764</td>\n",
       "      <td>0.007302</td>\n",
       "      <td>0.045386</td>\n",
       "      <td>0.484028</td>\n",
       "    </tr>\n",
       "    <tr>\n",
       "      <th>382623</th>\n",
       "      <td>0.069640</td>\n",
       "      <td>0.019949</td>\n",
       "      <td>0.763511</td>\n",
       "      <td>0.588181</td>\n",
       "      <td>0.000565</td>\n",
       "      <td>0.045386</td>\n",
       "      <td>0.484028</td>\n",
       "    </tr>\n",
       "    <tr>\n",
       "      <th>382624</th>\n",
       "      <td>0.064959</td>\n",
       "      <td>0.000196</td>\n",
       "      <td>0.763511</td>\n",
       "      <td>0.588181</td>\n",
       "      <td>0.143586</td>\n",
       "      <td>0.033960</td>\n",
       "      <td>0.004197</td>\n",
       "    </tr>\n",
       "    <tr>\n",
       "      <th>382625</th>\n",
       "      <td>0.112791</td>\n",
       "      <td>0.000112</td>\n",
       "      <td>0.763511</td>\n",
       "      <td>0.000719</td>\n",
       "      <td>0.188528</td>\n",
       "      <td>0.000251</td>\n",
       "      <td>0.484028</td>\n",
       "    </tr>\n",
       "    <tr>\n",
       "      <th>382626</th>\n",
       "      <td>0.016094</td>\n",
       "      <td>0.017241</td>\n",
       "      <td>0.000269</td>\n",
       "      <td>0.166230</td>\n",
       "      <td>0.102593</td>\n",
       "      <td>0.003526</td>\n",
       "      <td>0.017897</td>\n",
       "    </tr>\n",
       "  </tbody>\n",
       "</table>\n",
       "<p>382627 rows × 7 columns</p>\n",
       "</div>"
      ],
      "text/plain": [
       "        Object_Description  Job_Title_Description  Sub_Object_Description  \\\n",
       "0                 0.064959               0.083807                0.763511   \n",
       "1                 0.000402               0.039759                0.763511   \n",
       "2                 0.019800               0.000677                0.763511   \n",
       "3                 0.112791               0.043515                0.763511   \n",
       "4                 0.003651               0.022573                0.763511   \n",
       "...                    ...                    ...                     ...   \n",
       "382622            0.041769               0.083807                0.763511   \n",
       "382623            0.069640               0.019949                0.763511   \n",
       "382624            0.064959               0.000196                0.763511   \n",
       "382625            0.112791               0.000112                0.763511   \n",
       "382626            0.016094               0.017241                0.000269   \n",
       "\n",
       "        Location_Description  Function_Description  Program_Description  \\\n",
       "0                   0.588181              0.143586             0.002399   \n",
       "1                   0.588181              0.000363             0.000494   \n",
       "2                   0.588181              0.143586             0.031506   \n",
       "3                   0.588181              0.031096             0.017793   \n",
       "4                   0.588181              0.188528             0.026689   \n",
       "...                      ...                   ...                  ...   \n",
       "382622              0.004764              0.007302             0.045386   \n",
       "382623              0.588181              0.000565             0.045386   \n",
       "382624              0.588181              0.143586             0.033960   \n",
       "382625              0.000719              0.188528             0.000251   \n",
       "382626              0.166230              0.102593             0.003526   \n",
       "\n",
       "        Fund_Description  \n",
       "0               0.145502  \n",
       "1               0.484028  \n",
       "2               0.047613  \n",
       "3               0.484028  \n",
       "4               0.484028  \n",
       "...                  ...  \n",
       "382622          0.484028  \n",
       "382623          0.484028  \n",
       "382624          0.004197  \n",
       "382625          0.484028  \n",
       "382626          0.017897  \n",
       "\n",
       "[382627 rows x 7 columns]"
      ]
     },
     "execution_count": 10,
     "metadata": {},
     "output_type": "execute_result"
    }
   ],
   "source": [
    "train_cnt"
   ]
  },
  {
   "cell_type": "code",
   "execution_count": null,
   "metadata": {},
   "outputs": [],
   "source": []
  },
  {
   "cell_type": "code",
   "execution_count": null,
   "metadata": {},
   "outputs": [],
   "source": []
  },
  {
   "cell_type": "markdown",
   "metadata": {},
   "source": [
    "## 2. Label encoding with leave one out strategy with gaussian distributed noise smoothing"
   ]
  },
  {
   "cell_type": "code",
   "execution_count": 3,
   "metadata": {},
   "outputs": [],
   "source": [
    "from category_encoders import leave_one_out"
   ]
  },
  {
   "cell_type": "code",
   "execution_count": 4,
   "metadata": {},
   "outputs": [
    {
     "data": {
      "application/vnd.jupyter.widget-view+json": {
       "model_id": "8f3ccbbddca54d5a8c1c7a8e67a72eed",
       "version_major": 2,
       "version_minor": 0
      },
      "text/plain": [
       "HBox(children=(FloatProgress(value=0.0, max=104.0), HTML(value='')))"
      ]
     },
     "metadata": {},
     "output_type": "display_data"
    },
    {
     "name": "stdout",
     "output_type": "stream",
     "text": [
      "\n"
     ]
    }
   ],
   "source": [
    "train_label_encoding_dict={}\n",
    "test_label_encoding_dict={}\n",
    "for label in tqdm(labels.columns):\n",
    "    encoder=leave_one_out.LeaveOneOutEncoder(sigma=0.5)\n",
    "    encoder.fit(train,labels[label].to_frame())\n",
    "    \n",
    "    train_label_encoding_dict[label]=encoder.transform(train)\n",
    "    test_label_encoding_dict[label]=encoder.transform(test)"
   ]
  },
  {
   "cell_type": "markdown",
   "metadata": {},
   "source": [
    "## 3. Pickle out encoded data (dictionary) in the extracted folder"
   ]
  },
  {
   "cell_type": "code",
   "execution_count": null,
   "metadata": {},
   "outputs": [],
   "source": [
    "path='../../Data/Extracted/'\n",
    "\n",
    "with open(path+'train_cat_feat_target_encoding.pickle','wb') as f:\n",
    "    pickle.dump(train_label_encoding_dict,f)\n",
    "    \n",
    "with open(path+'te_cat_feat_target_encoding.pickle','wb') as f:\n",
    "    pickle.dump(train_label_encoding_dict,f)"
   ]
  },
  {
   "cell_type": "code",
   "execution_count": null,
   "metadata": {},
   "outputs": [],
   "source": []
  },
  {
   "cell_type": "code",
   "execution_count": null,
   "metadata": {},
   "outputs": [],
   "source": []
  }
 ],
 "metadata": {
  "kernelspec": {
   "display_name": "Python 3.7 (tensorflow)",
   "language": "python",
   "name": "tensorflow"
  },
  "language_info": {
   "codemirror_mode": {
    "name": "ipython",
    "version": 3
   },
   "file_extension": ".py",
   "mimetype": "text/x-python",
   "name": "python",
   "nbconvert_exporter": "python",
   "pygments_lexer": "ipython3",
   "version": "3.7.7"
  }
 },
 "nbformat": 4,
 "nbformat_minor": 4
}
