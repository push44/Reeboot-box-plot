{
 "cells": [
  {
   "cell_type": "code",
   "execution_count": 7,
   "metadata": {},
   "outputs": [],
   "source": [
    "import pandas as pd\n",
    "import numpy as np\n",
    "import gc"
   ]
  },
  {
   "cell_type": "markdown",
   "metadata": {},
   "source": [
    "## 1. Read original files"
   ]
  },
  {
   "cell_type": "code",
   "execution_count": 8,
   "metadata": {},
   "outputs": [
    {
     "data": {
      "text/plain": [
       "96"
      ]
     },
     "execution_count": 8,
     "metadata": {},
     "output_type": "execute_result"
    }
   ],
   "source": [
    "path='../../Data/Original/'\n",
    "\n",
    "# Remove unnamed ccolumn\n",
    "train=pd.read_csv(path+'TrainingData.csv')\n",
    "train=train[train.columns[1:]]\n",
    "=train.drop_duplicates()\n",
    "\n",
    "# Remove unnamed column\n",
    "test=pd.read_csv(path+'TestData.csv')\n",
    "test=test[test.columns[1:]]\n",
    "\n",
    "# Create new data frame as labels (target features)\n",
    "labels=train[list(set(train.columns)-set(test.columns))]\n",
    "\n",
    "# Delete labels (target features) from train data set\n",
    "for label in labels.columns:\n",
    "    del train[label]\n",
    "gc.collect()"
   ]
  },
  {
   "cell_type": "markdown",
   "metadata": {},
   "source": [
    "## 2. Save data set into extracted folder"
   ]
  },
  {
   "cell_type": "code",
   "execution_count": 10,
   "metadata": {},
   "outputs": [],
   "source": [
    "path='../../Data/Extracted/'\n",
    "train.to_csv(path+'train.csv',index=False)\n",
    "test.to_csv(path+'test.csv',index=False)\n",
    "labels.to_csv(path+'labels.csv',index=False)"
   ]
  },
  {
   "cell_type": "code",
   "execution_count": null,
   "metadata": {},
   "outputs": [],
   "source": []
  }
 ],
 "metadata": {
  "kernelspec": {
   "display_name": "Python 3.7 (tensorflow)",
   "language": "python",
   "name": "tensorflow"
  },
  "language_info": {
   "codemirror_mode": {
    "name": "ipython",
    "version": 3
   },
   "file_extension": ".py",
   "mimetype": "text/x-python",
   "name": "python",
   "nbconvert_exporter": "python",
   "pygments_lexer": "ipython3",
   "version": "3.7.7"
  }
 },
 "nbformat": 4,
 "nbformat_minor": 4
}
